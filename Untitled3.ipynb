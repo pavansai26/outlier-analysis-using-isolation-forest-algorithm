{
  "nbformat": 4,
  "nbformat_minor": 0,
  "metadata": {
    "colab": {
      "name": "Untitled3.ipynb",
      "provenance": [],
      "private_outputs": true,
      "machine_shape": "hm",
      "authorship_tag": "ABX9TyMekbiiEkAM37Kx525ifMib",
      "include_colab_link": true
    },
    "kernelspec": {
      "name": "python3",
      "display_name": "Python 3"
    },
    "accelerator": "GPU"
  },
  "cells": [
    {
      "cell_type": "markdown",
      "metadata": {
        "id": "view-in-github",
        "colab_type": "text"
      },
      "source": [
        "<a href=\"https://colab.research.google.com/github/pavansai26/outlier-analysis-using-isolation-forest-algorithm/blob/master/Untitled3.ipynb\" target=\"_parent\"><img src=\"https://colab.research.google.com/assets/colab-badge.svg\" alt=\"Open In Colab\"/></a>"
      ]
    },
    {
      "cell_type": "code",
      "metadata": {
        "id": "cLrV38i4DJbF",
        "colab_type": "code",
        "colab": {}
      },
      "source": [
        "from fastai import *\n",
        "from fastai.vision import *"
      ],
      "execution_count": 0,
      "outputs": []
    },
    {
      "cell_type": "code",
      "metadata": {
        "id": "2lQP8rccGoy1",
        "colab_type": "code",
        "colab": {}
      },
      "source": [
        " "
      ],
      "execution_count": 0,
      "outputs": []
    },
    {
      "cell_type": "markdown",
      "metadata": {
        "id": "W_iaijRWNUZs",
        "colab_type": "text"
      },
      "source": [
        "some of our top loss are not due to bad performance by the model. there are images in our data set should not be."
      ]
    },
    {
      "cell_type": "code",
      "metadata": {
        "id": "WUIXc3qSNoDt",
        "colab_type": "code",
        "colab": {}
      },
      "source": [
        ""
      ],
      "execution_count": 0,
      "outputs": []
    },
    {
      "cell_type": "markdown",
      "metadata": {
        "id": "gojkgQLJNpKY",
        "colab_type": "text"
      },
      "source": [
        "using the file detector widget from fastai.widgets we can proune our top losses. remove the photos that dont belong."
      ]
    },
    {
      "cell_type": "code",
      "metadata": {
        "id": "zilUgTzBN9xb",
        "colab_type": "code",
        "colab": {}
      },
      "source": [
        "from fastai.widgets import *\n",
        "losses_idx=interp.top_losses()\n",
        "top_loss_paths=data.valid_ds.x[idxs]"
      ],
      "execution_count": 0,
      "outputs": []
    },
    {
      "cell_type": "code",
      "metadata": {
        "id": "TT00DQc7OdjL",
        "colab_type": "code",
        "colab": {}
      },
      "source": [
        "fd=FileDeleter(file_paths=top_loss_paths)"
      ],
      "execution_count": 0,
      "outputs": []
    },
    {
      "cell_type": "code",
      "metadata": {
        "id": "5YfPHRLfOduY",
        "colab_type": "code",
        "colab": {}
      },
      "source": [
        "from fastai.datasets import *\n",
        "from pathlib import path\n",
        "import json\n",
        "from PIL import ImageDraw, ImageFont\n",
        "from matplotlib import patches,patheffects\n",
        "torch.cuda.set_device(1)"
      ],
      "execution_count": 0,
      "outputs": []
    },
    {
      "cell_type": "code",
      "metadata": {
        "id": "dO8GP7yiVMti",
        "colab_type": "code",
        "colab": {}
      },
      "source": [
        ""
      ],
      "execution_count": 0,
      "outputs": []
    },
    {
      "cell_type": "markdown",
      "metadata": {
        "id": "S1SOlcT9ehPf",
        "colab_type": "text"
      },
      "source": [
        "LOF AND ISOLATION FOREST\n",
        "\n",
        "LOF IS a local outlier filter measures local variation of sample vs its neighbours. where locality is determined by k nearest neighbours.lower density factors are considered outliers.\n",
        " isolation forest is an ensemble extremely randomized tree regressor that uses isolation to seperate unusual data points.\n",
        "\n",
        " both lof and isolation forest can be used in supervised and unsupervised settings."
      ]
    },
    {
      "cell_type": "code",
      "metadata": {
        "id": "wLS4xS8vfaau",
        "colab_type": "code",
        "colab": {}
      },
      "source": [
        "!pip freeze | findstr 'scikit-learn'"
      ],
      "execution_count": 0,
      "outputs": []
    },
    {
      "cell_type": "code",
      "metadata": {
        "id": "Ay8axe1nflD4",
        "colab_type": "code",
        "colab": {}
      },
      "source": [
        "from sklearn import datasets\n",
        "from sklearn import preprocessing\n",
        "from sklearn.model_selection import train_test_split\n",
        "\n",
        "from sklearn.ensemble import IsolationForest\n",
        "from sklearn.neighbors import LocalOutlierFactor\n",
        "\n",
        "from sklearn.metrics import confusion_matrix\n",
        "from sklearn.metrics import classification_report\n",
        "from sklearn.metrics import recall_score\n",
        "from sklearn.metrics import roc_auc_score\n",
        "from sklearn.metrics import make_scorer\n",
        "from sklearn.metrics import accuracy_score\n",
        "from sklearn.model_selection import GridSearchCV\n",
        "\n",
        "\n",
        "import pandas as pd\n",
        "import numpy as np\n",
        "import itertools\n",
        "import matplotlib.pyplot as plt\n",
        "import datetime"
      ],
      "execution_count": 0,
      "outputs": []
    },
    {
      "cell_type": "code",
      "metadata": {
        "id": "LYziDnLqha7H",
        "colab_type": "code",
        "colab": {}
      },
      "source": [
        "def byte_encoder(val):\n",
        "  #decode byte literals to strings\n",
        "  return val.decode('utf-8')"
      ],
      "execution_count": 0,
      "outputs": []
    },
    {
      "cell_type": "code",
      "metadata": {
        "id": "MRBFhkhAhyOT",
        "colab_type": "code",
        "colab": {}
      },
      "source": [
        "def plot_confusion_matrix(cm,title,classes=['abnormal','normal'],cmap=plt.cm.Blues,save=False,saves='myfigure.jpg'):\n",
        "  #print confusion matrix with blue color gradients contours\n",
        "  cm=cm.astype('float')/cm.sum(axis=1)[:,np.newaxis]\n",
        "\n",
        "  plt.imshow(cm,interpolation='nearest',cmap=cmap)\n",
        "  plt.title(title)\n",
        "  plt.colorbar()\n",
        "  tick_marks=np.arange(len(classes))\n",
        "  plt.xticks(tick_marks,classes,rotation=90)\n",
        "  plt.yticks(tick_marks,classes)\n",
        "\n",
        "  fmt='.1%'\n",
        "  thresh=cm.max()/2.\n",
        "  for i,j in itertools.product(range(cm.shape[0]),range(cm.shape[1])):\n",
        "    plt.text(j,i,format(cm[i,j],fmt),horizontalalignment='center',color='white')\n",
        "    plt.tight_layout()\n",
        "    plt.ylabel('true label')\n",
        "    plt.xlabel('predicted label')\n",
        "\n",
        "    if save:\n",
        "      plt.savefig(saves,dpi=100)\n",
        "\n"
      ],
      "execution_count": 0,
      "outputs": []
    },
    {
      "cell_type": "code",
      "metadata": {
        "id": "Z7Doi6Lgk-XA",
        "colab_type": "code",
        "colab": {}
      },
      "source": [
        "def plot_gridsearch_cv(results,estimator,x_min,x_max,y_min,y_max,save=False,saves='myfigure.jpg'):\n",
        "  # print gridsearch cross validation for parameters\n",
        "\n",
        "  plt.figure(figsize=(10,8))\n",
        "  plt.title('gridsearch cv for'+estimator,fontsize=24)\n",
        "\n",
        "  plt.xlabel(estimator)\n",
        "  plt.ylabel('score')\n",
        "  plt.grid\n",
        "\n",
        "  ax=plt.axes()\n",
        "  ax.set_xlim(x_min,x_max)\n",
        "  ax.set_ylim(y_min,y_max)\n",
        "\n",
        "  pad=0.05\n",
        "  x_axis=np.array(results['param_'+estimator].data,dtype=float)\n",
        "\n",
        "  for scorer,color in zip(sorted(scoring),['b','k']):\n",
        "    for sample, style in (('train', '--'),('test','--')):\n",
        "      sample_score_mean=results['mean_%s_%s' %(sample,scorer)]\n",
        "      sample_score_std=results['std_%s_%s' %(sample,score)]\n",
        "      ax.fill_between(x_axis,sample_score_mean-sample_score_std,sample_score_mean+sample_score_std,alpha=0.1 if sample == 'test' else 0, color=color)\n",
        "      ax.plot(x_axis,sample_score_mean,style,color=color,alpha=1 if sample == 'test' else 0.7,label='%s (%s)' %(scorer,sample))\n",
        "      best_index=np.nonzero(results['rank_test_%s' % scorer] == 1)[0][0]\n",
        "      best_score=results['mean_test_%s' % scorer][best_inex]\n",
        "\n",
        "      #plot a dotted vertical lin at the best score for that scorer marked by x\n",
        "      ax.plot([x_axis[best_index], ]*2, [0,best_score],linestyle='-.',color=color,marker='x',markeredgewidth=3,ms=8)\n",
        "\n",
        "      # annotate the best score for that scorer\n",
        "      ax.annotate('%0.2f', best_score,\n",
        "                  (x_axis[best_index],best_score+pad))\n",
        "    plt.legend(loc='best')\n",
        "    plt.grid('off')\n",
        "    plt.tight_layout()\n",
        "    if save:\n",
        "      plt.savefig(saves,dpi=100)\n",
        "    plt.show()\n"
      ],
      "execution_count": 0,
      "outputs": []
    },
    {
      "cell_type": "code",
      "metadata": {
        "id": "5D44yj7ptTvg",
        "colab_type": "code",
        "colab": {}
      },
      "source": [
        "target='target'\n",
        "sf=datasets.fetch_kddcup99(subset='sf',percent10=False)\n",
        "dfsf=pd.DataFrame(sf.data)\n",
        "assert len(dfsf)>0, 'sfdataset not loaded'\n",
        "\n",
        "dfsf[target]=sf.target\n",
        "anomaly_ratesf=1.0-len(dfsf.loc[dfsf[target]==b'normal.'])/len(dfsf)\n",
        "\n",
        "'sf anomaly rate is: \"+\"{:.1%}'.format(anomaly_ratesf)"
      ],
      "execution_count": 0,
      "outputs": []
    },
    {
      "cell_type": "code",
      "metadata": {
        "id": "1Fnh9Yirvex4",
        "colab_type": "code",
        "colab": {}
      },
      "source": [
        "sa=datasets.fetch_kddcup99(subset='sa',percent10=False)\n",
        "dfsa=pd.DataFrame(sa.data)\n",
        "assert len(dfsa)>0, 'sadataset not loaded'\n",
        "\n",
        "dfsa[target]=sa.target\n",
        "anomaly_ratesf=1.0-len(dfsa.loc[dfsf[target]==b'normal.'])/len(dfsa)\n",
        "\n",
        "\n",
        "'sf anomaly rate is: +\"{:.1%}'.format(anomaly_ratesf)\n",
        "\n"
      ],
      "execution_count": 0,
      "outputs": []
    },
    {
      "cell_type": "markdown",
      "metadata": {
        "id": "Ze5iRczqzES5",
        "colab_type": "text"
      },
      "source": [
        "data processing stage:\n",
        "\n",
        "non numeric attributes are label encoded to integers. all records where target is not normal are converted to single abnormal classes."
      ]
    },
    {
      "cell_type": "code",
      "metadata": {
        "id": "-Ltlo6VLysYM",
        "colab_type": "code",
        "colab": {}
      },
      "source": [
        "todecodesa = ['protocal_type','service','flag',target]\n",
        "todecodesf=['service',target]\n",
        "\n",
        "('original sa target values:', set(dfsa[target]))"
      ],
      "execution_count": 0,
      "outputs": []
    },
    {
      "cell_type": "code",
      "metadata": {
        "id": "uw-nhtZ3z1oe",
        "colab_type": "code",
        "colab": {}
      },
      "source": [
        "# apply hot encoding to fields of type string\n",
        "# convert all abnormal target types to single anomaly class\n",
        "\n",
        "dfsf['binary_target']=[1 if x== b'normal.' else -1 for x in dfsf[target]]\n",
        "\n",
        "\n",
        "lesa=preprocessing.LabelEncoder()\n",
        "\n",
        "for f in todecodesa:\n",
        "  dfsa[f]=list(map(byte_encoder,dfsf[f]))\n",
        "  dfsa[f]=lesa.fit_transform(dfsa[f])\n",
        "\n",
        "\n",
        "#dfsa_normed=preprocessing.normalize(dfsa.drop([target,'binary_target'], axis=1))\n",
        "\n",
        "\n"
      ],
      "execution_count": 0,
      "outputs": []
    },
    {
      "cell_type": "code",
      "metadata": {
        "id": "4-DDbmyRWsfx",
        "colab_type": "code",
        "colab": {}
      },
      "source": [
        "dfsa['binary_target']=[1 if x==b'normal.' else -1 for x in dfsa[target]]\n",
        "lesf=preprocessing.LabelEncoder()\n",
        "for f in todecodesf:\n",
        "   dfsf[f]=list(map(byte_encoder,dfsf[f]))\n",
        "   dfsf[f]=lesa.fit_transform(dfsf[f])\n",
        "dfsf_normed=preprocessing.normalize(dfsf.drop([target,'binary_target'], axis=1))\n"
      ],
      "execution_count": 0,
      "outputs": []
    },
    {
      "cell_type": "code",
      "metadata": {
        "id": "7zhk4spx2N1G",
        "colab_type": "code",
        "colab": {}
      },
      "source": [
        "x_train_sa,x_test_sa,y_train_sa,y_test_sa=train_test_split(dfsa.drop([target,'binary_target'],dfsa['binary_target'],\n",
        "                                                                     test_size=0.33,random_state=11))\n",
        "x_train_nd,x_test_nd,y_train_nd,y_test_nd=train_test_split(dfsa_normed,dfsa['binary_target'],test_size=0.33,random_state=11)"
      ],
      "execution_count": 0,
      "outputs": []
    },
    {
      "cell_type": "code",
      "metadata": {
        "id": "NtlwgOHaVSt6",
        "colab_type": "code",
        "colab": {}
      },
      "source": [
        "clfif=IsolationForest(max_features=25,random_state=11,contamination=0.15)\n",
        "clflof=LocalOutlierFactor(n_neighbors=15,metric='euclidian',contamination=0.15)"
      ],
      "execution_count": 0,
      "outputs": []
    },
    {
      "cell_type": "code",
      "metadata": {
        "id": "1nknRc1ZVSi_",
        "colab_type": "code",
        "colab": {}
      },
      "source": [
        "start=datetime.datetime.now()\n",
        "clfif.fit(x_train_sa,y_train_sa)\n",
        "y_pred_train=clfif.predict(x_train_sa)\n",
        "end=datetime.datetime.now()\n",
        "print(end-start)"
      ],
      "execution_count": 0,
      "outputs": []
    },
    {
      "cell_type": "code",
      "metadata": {
        "id": "dAa16CRLez51",
        "colab_type": "code",
        "colab": {}
      },
      "source": [
        "start=datetime.datetime.now()\n",
        "y_pred_train_lof=clflof.fit_predict(x_train_nd,y_train_nd)\n",
        "end=datetime.datetime.now()"
      ],
      "execution_count": 0,
      "outputs": []
    },
    {
      "cell_type": "code",
      "metadata": {
        "id": "BrNOFn2Xe0Wc",
        "colab_type": "code",
        "colab": {}
      },
      "source": [
        "print(classification_report(y_train_sa,y_pred_train,target_names=['anomaly','normal']))\n",
        "print('auc:', '{.1%}'.format(roc_auc_score(y_train_sa,y_pred_train)))\n",
        "cm=confusion_matrix(cm,title='if confusiom',save=True, saves='if_sa.jpg')"
      ],
      "execution_count": 0,
      "outputs": []
    },
    {
      "cell_type": "code",
      "metadata": {
        "id": "bawK1Lrye0So",
        "colab_type": "code",
        "colab": {}
      },
      "source": [
        "print(classification_report(y_train_nd,y_pred_train_lof,target_names=['anomaly','normal']))\n",
        "print('auc:', '{.1%}'.format(roc_auc_score(y_train_nd,y_pred_train_lof)))\n",
        "cm=confusion_matrix(cm,title='lof confusiom',save=True, saves='if_sf.jpg')"
      ],
      "execution_count": 0,
      "outputs": []
    },
    {
      "cell_type": "code",
      "metadata": {
        "id": "z18ycrx7jkU4",
        "colab_type": "code",
        "colab": {}
      },
      "source": [
        "scoring={'auc':'roc_auc','recall': make_scorer(recall_score,pos_label=-1)}"
      ],
      "execution_count": 0,
      "outputs": []
    },
    {
      "cell_type": "code",
      "metadata": {
        "id": "arJi2fBWjk5Z",
        "colab_type": "code",
        "colab": {}
      },
      "source": [
        "gs=GridSearchCV(IsolationForest(max_samples=0.25,random_state=11,contamination=0.15),param_grid={'n_estimators': range(20,230,30)},\n",
        "                scoring=scoring,refit='recall')\n",
        "gs.fit(x_train_sf,y_train_sf)\n",
        "results=gs.cv_results_"
      ],
      "execution_count": 0,
      "outputs": []
    },
    {
      "cell_type": "code",
      "metadata": {
        "id": "4NFfWd7yjk2c",
        "colab_type": "code",
        "colab": {}
      },
      "source": [
        "plot_gridsearch_cv(results,'n_estimators',0,230,0.73,1.05, save=True,saveas='gs.jpg')"
      ],
      "execution_count": 0,
      "outputs": []
    },
    {
      "cell_type": "code",
      "metadata": {
        "id": "WHLj7LpMjkyh",
        "colab_type": "code",
        "colab": {}
      },
      "source": [
        "gs=GridSearchCV(IsolationForest(max_samples=0.25,random_state=11,contamination=0.15),param_grid={'max_samples': np.arange(0.1,1.0,0.1)},\n",
        "                scoring=scoring,refit='recall')\n",
        "gs.fit(x_train_sf,y_train_sf)\n",
        "results=gs.cv_results_"
      ],
      "execution_count": 0,
      "outputs": []
    },
    {
      "cell_type": "code",
      "metadata": {
        "id": "bZ_-5VqLjkuv",
        "colab_type": "code",
        "colab": {}
      },
      "source": [
        "plot_gridsearch_cv(results,'max_samples',0,1,0.73,1.05, save=True,saveas='gs1.jpg')"
      ],
      "execution_count": 0,
      "outputs": []
    },
    {
      "cell_type": "code",
      "metadata": {
        "id": "xTpgqfDqjkD6",
        "colab_type": "code",
        "colab": {}
      },
      "source": [
        "gs=GridSearchCV(IsolationForest(max_samples=0.25,random_state=11,contamination=0.15),param_grid={'contamination': np.arange(0.01,0.25,0.05)},\n",
        "                scoring=scoring,refit='recall')\n",
        "gs.fit(x_train_sf,y_train_sf)\n",
        "results=gs.cv_results_"
      ],
      "execution_count": 0,
      "outputs": []
    },
    {
      "cell_type": "code",
      "metadata": {
        "id": "HgG7ZbWtmkWJ",
        "colab_type": "code",
        "colab": {}
      },
      "source": [
        "plot_gridsearch_cv(results,'contamination',0,0.20,0.80,1.08 save=True,saveas='gs2.jpg')"
      ],
      "execution_count": 0,
      "outputs": []
    },
    {
      "cell_type": "code",
      "metadata": {
        "id": "iikpu9WZm3zC",
        "colab_type": "code",
        "colab": {}
      },
      "source": [
        ""
      ],
      "execution_count": 0,
      "outputs": []
    },
    {
      "cell_type": "code",
      "metadata": {
        "id": "ryrfq_U6m4aw",
        "colab_type": "code",
        "colab": {}
      },
      "source": [
        ""
      ],
      "execution_count": 0,
      "outputs": []
    },
    {
      "cell_type": "code",
      "metadata": {
        "id": "YnZ4JB6em4XJ",
        "colab_type": "code",
        "colab": {}
      },
      "source": [
        ""
      ],
      "execution_count": 0,
      "outputs": []
    },
    {
      "cell_type": "code",
      "metadata": {
        "id": "JkdDAhRHm4UP",
        "colab_type": "code",
        "colab": {}
      },
      "source": [
        ""
      ],
      "execution_count": 0,
      "outputs": []
    },
    {
      "cell_type": "code",
      "metadata": {
        "id": "jyL2sMHbm4Q2",
        "colab_type": "code",
        "colab": {}
      },
      "source": [
        ""
      ],
      "execution_count": 0,
      "outputs": []
    },
    {
      "cell_type": "code",
      "metadata": {
        "id": "sFYDbweDm4Nm",
        "colab_type": "code",
        "colab": {}
      },
      "source": [
        ""
      ],
      "execution_count": 0,
      "outputs": []
    }
  ]
}